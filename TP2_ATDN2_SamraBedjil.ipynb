{
 "cells": [
  {
   "cell_type": "code",
   "execution_count": 27,
   "metadata": {
    "executionInfo": {
     "elapsed": 1603,
     "status": "ok",
     "timestamp": 1743175547313,
     "user": {
      "displayName": "Akli YALAOUI",
      "userId": "11221765423982918284"
     },
     "user_tz": -60
    },
    "id": "EGhBzYicFalT"
   },
   "outputs": [],
   "source": [
    "import numpy as np\n",
    "import pandas as pd\n",
    "import matplotlib.pyplot as plt\n",
    "import seaborn as sns\n",
    "from scipy import stats\n",
    "from sklearn.decomposition import KernelPCA\n",
    "from sklearn.preprocessing import StandardScaler\n",
    "from sklearn.ensemble import RandomForestClassifier, AdaBoostRegressor, GradientBoostingRegressor\n",
    "from sklearn.metrics import accuracy_score, f1_score, mean_squared_error\n",
    "from sklearn.model_selection import train_test_split"
   ]
  },
  {
   "cell_type": "markdown",
   "metadata": {
    "id": "vGckXpcpFnLi"
   },
   "source": [
    "# Partie 1 : Analyse exploratoire des données"
   ]
  },
  {
   "cell_type": "code",
   "execution_count": 28,
   "metadata": {
    "colab": {
     "base_uri": "https://localhost:8080/",
     "height": 206
    },
    "executionInfo": {
     "elapsed": 74,
     "status": "ok",
     "timestamp": 1743175581069,
     "user": {
      "displayName": "Akli YALAOUI",
      "userId": "11221765423982918284"
     },
     "user_tz": -60
    },
    "id": "YdXGf2uJFsKt",
    "outputId": "a0293be6-a7fb-44a8-a7a5-c3dfc50c2f16"
   },
   "outputs": [
    {
     "data": {
      "text/html": [
       "<div>\n",
       "<style scoped>\n",
       "    .dataframe tbody tr th:only-of-type {\n",
       "        vertical-align: middle;\n",
       "    }\n",
       "\n",
       "    .dataframe tbody tr th {\n",
       "        vertical-align: top;\n",
       "    }\n",
       "\n",
       "    .dataframe thead th {\n",
       "        text-align: right;\n",
       "    }\n",
       "</style>\n",
       "<table border=\"1\" class=\"dataframe\">\n",
       "  <thead>\n",
       "    <tr style=\"text-align: right;\">\n",
       "      <th></th>\n",
       "      <th>poids</th>\n",
       "      <th>nourriture</th>\n",
       "      <th>température</th>\n",
       "    </tr>\n",
       "  </thead>\n",
       "  <tbody>\n",
       "    <tr>\n",
       "      <th>0</th>\n",
       "      <td>3.041505</td>\n",
       "      <td>0.824184</td>\n",
       "      <td>24.826672</td>\n",
       "    </tr>\n",
       "    <tr>\n",
       "      <th>1</th>\n",
       "      <td>2.789152</td>\n",
       "      <td>1.132088</td>\n",
       "      <td>23.322881</td>\n",
       "    </tr>\n",
       "    <tr>\n",
       "      <th>2</th>\n",
       "      <td>1.914510</td>\n",
       "      <td>1.249555</td>\n",
       "      <td>21.867848</td>\n",
       "    </tr>\n",
       "    <tr>\n",
       "      <th>3</th>\n",
       "      <td>2.231924</td>\n",
       "      <td>1.719257</td>\n",
       "      <td>28.779549</td>\n",
       "    </tr>\n",
       "    <tr>\n",
       "      <th>4</th>\n",
       "      <td>3.282356</td>\n",
       "      <td>0.906272</td>\n",
       "      <td>24.557703</td>\n",
       "    </tr>\n",
       "  </tbody>\n",
       "</table>\n",
       "</div>"
      ],
      "text/plain": [
       "      poids  nourriture  température\n",
       "0  3.041505    0.824184    24.826672\n",
       "1  2.789152    1.132088    23.322881\n",
       "2  1.914510    1.249555    21.867848\n",
       "3  2.231924    1.719257    28.779549\n",
       "4  3.282356    0.906272    24.557703"
      ]
     },
     "execution_count": 28,
     "metadata": {},
     "output_type": "execute_result"
    }
   ],
   "source": [
    "data = pd.DataFrame({\n",
    "    'poids': np.random.normal(2.5, 0.5, 100),\n",
    "    'nourriture': np.random.normal(1.2, 0.3, 100),\n",
    "    'température': np.random.normal(25, 2, 100)\n",
    "})\n",
    "\n",
    "data.head()"
   ]
  },
  {
   "cell_type": "markdown",
   "metadata": {
    "id": "rMYP45T-Fo-W"
   },
   "source": [
    "## Exercice 1 : Statistiques descriptives (1 points)"
   ]
  },
  {
   "cell_type": "markdown",
   "metadata": {
    "id": "nqdQe_1kF9tN"
   },
   "source": [
    "### 1. (0.5 pts) Calculez la moyenne, médiane, écart-type, variance et les quartiles pour les variables poids, nourriture et température."
   ]
  },
  {
   "cell_type": "code",
   "execution_count": 29,
   "metadata": {
    "colab": {
     "base_uri": "https://localhost:8080/",
     "height": 300
    },
    "executionInfo": {
     "elapsed": 324,
     "status": "ok",
     "timestamp": 1743175588593,
     "user": {
      "displayName": "Akli YALAOUI",
      "userId": "11221765423982918284"
     },
     "user_tz": -60
    },
    "id": "CH_BT6KPFr0H",
    "outputId": "d974afa4-c1f2-4c6b-9ce6-e3922f581074"
   },
   "outputs": [
    {
     "data": {
      "text/html": [
       "<div>\n",
       "<style scoped>\n",
       "    .dataframe tbody tr th:only-of-type {\n",
       "        vertical-align: middle;\n",
       "    }\n",
       "\n",
       "    .dataframe tbody tr th {\n",
       "        vertical-align: top;\n",
       "    }\n",
       "\n",
       "    .dataframe thead th {\n",
       "        text-align: right;\n",
       "    }\n",
       "</style>\n",
       "<table border=\"1\" class=\"dataframe\">\n",
       "  <thead>\n",
       "    <tr style=\"text-align: right;\">\n",
       "      <th></th>\n",
       "      <th>poids</th>\n",
       "      <th>nourriture</th>\n",
       "      <th>température</th>\n",
       "    </tr>\n",
       "  </thead>\n",
       "  <tbody>\n",
       "    <tr>\n",
       "      <th>count</th>\n",
       "      <td>100.000000</td>\n",
       "      <td>100.000000</td>\n",
       "      <td>100.000000</td>\n",
       "    </tr>\n",
       "    <tr>\n",
       "      <th>mean</th>\n",
       "      <td>2.468167</td>\n",
       "      <td>1.253729</td>\n",
       "      <td>24.930454</td>\n",
       "    </tr>\n",
       "    <tr>\n",
       "      <th>std</th>\n",
       "      <td>0.521514</td>\n",
       "      <td>0.304479</td>\n",
       "      <td>2.149500</td>\n",
       "    </tr>\n",
       "    <tr>\n",
       "      <th>min</th>\n",
       "      <td>0.935018</td>\n",
       "      <td>0.508193</td>\n",
       "      <td>20.241252</td>\n",
       "    </tr>\n",
       "    <tr>\n",
       "      <th>25%</th>\n",
       "      <td>2.150886</td>\n",
       "      <td>1.092916</td>\n",
       "      <td>23.613774</td>\n",
       "    </tr>\n",
       "    <tr>\n",
       "      <th>50%</th>\n",
       "      <td>2.461643</td>\n",
       "      <td>1.231140</td>\n",
       "      <td>24.978498</td>\n",
       "    </tr>\n",
       "    <tr>\n",
       "      <th>75%</th>\n",
       "      <td>2.765581</td>\n",
       "      <td>1.478278</td>\n",
       "      <td>26.460951</td>\n",
       "    </tr>\n",
       "    <tr>\n",
       "      <th>max</th>\n",
       "      <td>3.757308</td>\n",
       "      <td>1.946443</td>\n",
       "      <td>29.143161</td>\n",
       "    </tr>\n",
       "  </tbody>\n",
       "</table>\n",
       "</div>"
      ],
      "text/plain": [
       "            poids  nourriture  température\n",
       "count  100.000000  100.000000   100.000000\n",
       "mean     2.468167    1.253729    24.930454\n",
       "std      0.521514    0.304479     2.149500\n",
       "min      0.935018    0.508193    20.241252\n",
       "25%      2.150886    1.092916    23.613774\n",
       "50%      2.461643    1.231140    24.978498\n",
       "75%      2.765581    1.478278    26.460951\n",
       "max      3.757308    1.946443    29.143161"
      ]
     },
     "execution_count": 29,
     "metadata": {},
     "output_type": "execute_result"
    }
   ],
   "source": [
    "data.describe()"
   ]
  },
  {
   "cell_type": "markdown",
   "metadata": {
    "id": "BiZbwUhMHnFW"
   },
   "source": [
    "### 2. (0.5 pts) Tracez des histogrammes et des boxplots pour visualiser la répartition des données. Que pouvez-vous déduire de ces graphiques ? Les données semblent-elles homogènes ou  dispersées ?"
   ]
  },
  {
   "cell_type": "code",
   "execution_count": 30,
   "metadata": {
    "colab": {
     "base_uri": "https://localhost:8080/",
     "height": 902
    },
    "executionInfo": {
     "elapsed": 1374,
     "status": "ok",
     "timestamp": 1743175733598,
     "user": {
      "displayName": "Akli YALAOUI",
      "userId": "11221765423982918284"
     },
     "user_tz": -60
    },
    "id": "9BAKkE1DHpyT",
    "outputId": "a4bc14b6-4a74-422d-8d3a-c96408edb689"
   },
   "outputs": [
    {
     "data": {
      "image/png": "[encoded data removed]",
      "text/plain": [
       "<Figure size 1500x500 with 3 Axes>"
      ]
     },
     "metadata": {},
     "output_type": "display_data"
    },
    {
     "data": {
      "image/png": "[encoded data removed]",
      "text/plain": [
       "<Figure size 1500x500 with 3 Axes>"
      ]
     },
     "metadata": {},
     "output_type": "display_data"
    }
   ],
   "source": [
    "# Histogrammes\n",
    "plt.figure(figsize=(15, 5))\n",
    "plt.subplot(1, 3, 1)\n",
    "plt.hist(data['poids'], bins=10)\n",
    "plt.title('Poids')\n",
    "\n",
    "plt.subplot(1, 3, 2)\n",
    "plt.hist(data['nourriture'], bins=10)\n",
    "plt.title('Nourriture')\n",
    "\n",
    "plt.subplot(1, 3, 3)\n",
    "plt.hist(data['température'], bins=10)\n",
    "plt.title('Température')\n",
    "\n",
    "plt.show()\n",
    "\n",
    "# Boxplots\n",
    "plt.figure(figsize=(15, 5))\n",
    "plt.subplot(1, 3, 1)\n",
    "sns.boxplot(data['poids'])\n",
    "plt.title('Poids')\n",
    "\n",
    "plt.subplot(1, 3, 2)\n",
    "sns.boxplot(data['nourriture'])\n",
    "plt.title('Nourriture')\n",
    "\n",
    "plt.subplot(1, 3, 3)\n",
    "sns.boxplot(data['température'])\n",
    "plt.title('Température')\n",
    "\n",
    "plt.show()"
   ]
  },
  {
   "cell_type": "markdown",
   "metadata": {
    "id": "siFDvyeVH3wH"
   },
   "source": [
    "- Les histogrammes montrent la fréquence des valeurs pour chaque intervalle.\n",
    "- Les boxplots représentent la médiane, les quartiles, et les valeurs aberrantes.\n",
    "- Pour les données générées aléatoirement ici, on a des distributions relativement normales, (symétriques, centrées autour de la moyenne) avec peu de valeurs aberrantes, ce qui indique une certaine homogénéité."
   ]
  },
  {
   "cell_type": "markdown",
   "metadata": {
    "id": "rSB7-glXFt-B"
   },
   "source": [
    "## Exercice 2 : Détection des outliers (3 points)"
   ]
  },
  {
   "cell_type": "markdown",
   "metadata": {
    "id": "_P1InSGnIdFO"
   },
   "source": [
    "### 3. (1,5 pts) Détectez les outliers avec la méthode de l'écart interquartile (IQR) et la méthode du Z-Score. Comparez les résultats."
   ]
  },
  {
   "cell_type": "code",
   "execution_count": 31,
   "metadata": {
    "colab": {
     "base_uri": "https://localhost:8080/"
    },
    "executionInfo": {
     "elapsed": 14,
     "status": "ok",
     "timestamp": 1743175750869,
     "user": {
      "displayName": "Akli YALAOUI",
      "userId": "11221765423982918284"
     },
     "user_tz": -60
    },
    "id": "bMoRI2Y1FwbB",
    "outputId": "a0a61060-f634-48d3-a603-6a5a9f165487"
   },
   "outputs": [
    {
     "name": "stdout",
     "output_type": "stream",
     "text": [
      "Outliers détectés par IQR:\n",
      "poids          2\n",
      "nourriture     1\n",
      "température    0\n",
      "dtype: int64\n"
     ]
    }
   ],
   "source": [
    "Q1 = data.quantile(0.25)\n",
    "Q3 = data.quantile(0.75)\n",
    "IQR = Q3 - Q1\n",
    "outliers_iqr = ((data < (Q1 - 1.5 * IQR)) | (data > (Q3 + 1.5 * IQR)))\n",
    "print(\"Outliers détectés par IQR:\")\n",
    "print(outliers_iqr.sum())"
   ]
  },
  {
   "cell_type": "code",
   "execution_count": 32,
   "metadata": {
    "colab": {
     "base_uri": "https://localhost:8080/"
    },
    "executionInfo": {
     "elapsed": 12,
     "status": "ok",
     "timestamp": 1743175753856,
     "user": {
      "displayName": "Akli YALAOUI",
      "userId": "11221765423982918284"
     },
     "user_tz": -60
    },
    "id": "PYxwn7_-IoC2",
    "outputId": "1b29bc9f-3fd4-499f-83ab-356cfd5a0ecc"
   },
   "outputs": [
    {
     "name": "stdout",
     "output_type": "stream",
     "text": [
      "Outliers détectés par Z-score:\n",
      "poids          0\n",
      "nourriture     0\n",
      "température    0\n",
      "dtype: int64\n"
     ]
    }
   ],
   "source": [
    "z_scores = np.abs(stats.zscore(data))\n",
    "outliers_z = (z_scores > 3)\n",
    "print(\"Outliers détectés par Z-score:\")\n",
    "print(outliers_z.sum())"
   ]
  },
  {
   "cell_type": "code",
   "execution_count": 33,
   "metadata": {
    "colab": {
     "base_uri": "https://localhost:8080/"
    },
    "executionInfo": {
     "elapsed": 44,
     "status": "ok",
     "timestamp": 1743175762514,
     "user": {
      "displayName": "Akli YALAOUI",
      "userId": "11221765423982918284"
     },
     "user_tz": -60
    },
    "id": "949t7x-bIv9S",
    "outputId": "96c3e108-5036-4822-814e-5b31341da3ba"
   },
   "outputs": [
    {
     "name": "stdout",
     "output_type": "stream",
     "text": [
      "Variable 'poids':\n",
      "- IQR: 2 outliers\n",
      "- Z-score: 0 outliers\n",
      "  IQR outliers indices: [33, 64]\n",
      "  Z-score outliers indices: []\n",
      "Variable 'nourriture':\n",
      "- IQR: 1 outliers\n",
      "- Z-score: 0 outliers\n",
      "  IQR outliers indices: [94]\n",
      "  Z-score outliers indices: []\n",
      "Variable 'température':\n",
      "- IQR: 0 outliers\n",
      "- Z-score: 0 outliers\n",
      "  IQR outliers indices: []\n",
      "  Z-score outliers indices: []\n"
     ]
    }
   ],
   "source": [
    "# Comparaison des résultats\n",
    "for col in data.columns:\n",
    "    iqr_outliers_col = outliers_iqr[col].sum()\n",
    "    zscore_outliers_col = outliers_z[col].sum()\n",
    "    print(f\"Variable '{col}':\")\n",
    "    print(f\"- IQR: {iqr_outliers_col} outliers\")\n",
    "    print(f\"- Z-score: {zscore_outliers_col} outliers\")\n",
    "\n",
    "    iqr_outliers_indices = data.index[outliers_iqr[col]]\n",
    "    zscore_outliers_indices = data.index[outliers_z[col]]\n",
    "    print(f\"  IQR outliers indices: {iqr_outliers_indices.tolist()}\")\n",
    "    print(f\"  Z-score outliers indices: {zscore_outliers_indices.tolist()}\")"
   ]
  },
  {
   "cell_type": "markdown",
   "metadata": {
    "id": "6poC9lDEIsxc"
   },
   "source": [
    "### 4. (1,5 pts) Visualisez ces outliers sur un boxplot annoté. Les outliers détectés sont-ils réalistes ou issus d'erreurs de mesure ? Faut-il les exclure ou les garder ? Justifiez votre choix."
   ]
  },
  {
   "cell_type": "code",
   "execution_count": 34,
   "metadata": {
    "colab": {
     "base_uri": "https://localhost:8080/",
     "height": 469
    },
    "executionInfo": {
     "elapsed": 250,
     "status": "ok",
     "timestamp": 1743175775165,
     "user": {
      "displayName": "Akli YALAOUI",
      "userId": "11221765423982918284"
     },
     "user_tz": -60
    },
    "id": "Xvt--M9qJF9X",
    "outputId": "aee7c1a8-66c9-43a9-8d85-fa2952cecfe0"
   },
   "outputs": [
    {
     "data": {
      "image/png": "[encoded data removed]",
      "text/plain": [
       "<Figure size 1000x500 with 1 Axes>"
      ]
     },
     "metadata": {},
     "output_type": "display_data"
    }
   ],
   "source": [
    "plt.figure(figsize=(10, 5))\n",
    "sns.boxplot(data=data)\n",
    "plt.title(\"Boxplot annoté des outliers\")\n",
    "for i, col in enumerate(data.columns):\n",
    "    outlier_values = data[col][outliers_iqr[col]]\n",
    "    for value in outlier_values:\n",
    "        plt.text(i, value, f\"{value:.2f}\", ha='right', color='red')\n",
    "plt.show()"
   ]
  },
  {
   "cell_type": "markdown",
   "metadata": {
    "id": "I9YGobW2YL26"
   },
   "source": [
    "- Dans le contexte de données générées aléatoirement, les outliers détectés par les méthodes IQR et Z-score sont probablement dus à la nature aléatoire des données et non à des erreurs de mesure.  \n",
    "- Étant donné qu'il n'y a pas de contexte réel ou de connaissance métier spécifique pour interpréter ces données, on conserve les outliers.\n",
    "-  En effet, il est important de noter que les outliers peuvent être des valeurs significatives à ne pas négliger, reflétant la variabilité naturelle des données ou des cas exceptionnels.\n",
    "- Leur exclusion pourrait fausser l'analyse et les modèles statistiques, car on supprime une partie de l'information disponible.\n"
   ]
  },
  {
   "cell_type": "markdown",
   "metadata": {
    "id": "TlaynG-7FycT"
   },
   "source": [
    "## Exercice 3 : Tests paramétriques (4 points)"
   ]
  },
  {
   "cell_type": "markdown",
   "metadata": {
    "id": "JPkwb6-FLBtg"
   },
   "source": [
    "### 5. (2 pts) Testez la normalité des variables (poids, nourriture, température) avec le test de Shapiro Wilk. Expliquez ce que vous observez."
   ]
  },
  {
   "cell_type": "code",
   "execution_count": 35,
   "metadata": {
    "colab": {
     "base_uri": "https://localhost:8080/"
    },
    "executionInfo": {
     "elapsed": 18,
     "status": "ok",
     "timestamp": 1743175934417,
     "user": {
      "displayName": "Akli YALAOUI",
      "userId": "11221765423982918284"
     },
     "user_tz": -60
    },
    "id": "IastvO8mF0CU",
    "outputId": "ffd2e16c-720c-44bb-85de-81b510ab2606"
   },
   "outputs": [
    {
     "name": "stdout",
     "output_type": "stream",
     "text": [
      "Test de Shapiro-Wilk pour la variable poids:\n",
      "Statistique de test : 0.9869512915611267\n",
      "p-value : 0.4343603253364563\n",
      "On ne rejette pas l'hypothèse nulle. La variable suit une loi normale.\n",
      "--------------------\n",
      "Test de Shapiro-Wilk pour la variable nourriture:\n",
      "Statistique de test : 0.988318681716919\n",
      "p-value : 0.5319951772689819\n",
      "On ne rejette pas l'hypothèse nulle. La variable suit une loi normale.\n",
      "--------------------\n",
      "Test de Shapiro-Wilk pour la variable température:\n",
      "Statistique de test : 0.9828478693962097\n",
      "p-value : 0.2200966626405716\n",
      "On ne rejette pas l'hypothèse nulle. La variable suit une loi normale.\n",
      "--------------------\n"
     ]
    }
   ],
   "source": [
    "alpha = 0.05  # seuil de signification\n",
    "\n",
    "for col in ['poids', 'nourriture', 'température']:\n",
    "    shapiro_test = stats.shapiro(data[col])\n",
    "    print(f\"Test de Shapiro-Wilk pour la variable {col}:\")\n",
    "    print(f\"Statistique de test : {shapiro_test.statistic}\")\n",
    "    print(f\"p-value : {shapiro_test.pvalue}\")\n",
    "\n",
    "    if shapiro_test.pvalue > alpha:\n",
    "        print(\"On ne rejette pas l'hypothèse nulle. La variable suit une loi normale.\")\n",
    "    else:\n",
    "        print(\"On rejette l'hypothèse nulle. La variable ne suit pas une loi normale.\")\n",
    "    print(\"-\" * 20)\n"
   ]
  },
  {
   "cell_type": "markdown",
   "metadata": {
    "id": "Qe6KkncALVrG"
   },
   "source": [
    "### 6. (2 pts) Comparez les moyennes de deux groupes avec le test t de Student, puis utilisez une ANOVA pour comparer les moyennes de plusieurs groupes.Interprétez les résultats."
   ]
  },
  {
   "cell_type": "code",
   "execution_count": 36,
   "metadata": {
    "colab": {
     "base_uri": "https://localhost:8080/"
    },
    "executionInfo": {
     "elapsed": 26,
     "status": "ok",
     "timestamp": 1743176013843,
     "user": {
      "displayName": "Akli YALAOUI",
      "userId": "11221765423982918284"
     },
     "user_tz": -60
    },
    "id": "RK5959FZYf71",
    "outputId": "1430c3eb-e317-48cb-88a8-b593b93d31f2"
   },
   "outputs": [
    {
     "name": "stdout",
     "output_type": "stream",
     "text": [
      "Test t de Student pour poids : t-stat=1.0420868714200666, p-value=0.29993536261613823\n",
      "Il n'y pas a une  difference significative entre les moyennes du group1 et group2.\n"
     ]
    }
   ],
   "source": [
    "# Séparation en deux groupes aléatoires\n",
    "group1 = data.sample(n=50, random_state=42)\n",
    "group2 = data.drop(group1.index)\n",
    "\n",
    "t_stat, p_value = stats.ttest_ind(group1['poids'], group2['poids'])\n",
    "print(f\"Test t de Student pour poids : t-stat={t_stat}, p-value={p_value}\")\n",
    "\n",
    "if p_value < 0.05:\n",
    "  print(\"Il y a une  difference significative entre les moyennes du group1 et group2.\")\n",
    "else:\n",
    "  print(\"Il n'y pas a une  difference significative entre les moyennes du group1 et group2.\")\n"
   ]
  },
  {
   "cell_type": "code",
   "execution_count": 37,
   "metadata": {
    "colab": {
     "base_uri": "https://localhost:8080/"
    },
    "executionInfo": {
     "elapsed": 19,
     "status": "ok",
     "timestamp": 1743176111696,
     "user": {
      "displayName": "Akli YALAOUI",
      "userId": "11221765423982918284"
     },
     "user_tz": -60
    },
    "id": "JwJxMGF4LYKj",
    "outputId": "a093937a-7dda-4150-e227-c40e24a2c846"
   },
   "outputs": [
    {
     "name": "stdout",
     "output_type": "stream",
     "text": [
      "ANOVA pour poids : F-stat=0.8594948894515703, p-value=0.4265746501677007\n",
      "Il n'y pas a une  difference significative entre les moyennes des groupes.\n"
     ]
    }
   ],
   "source": [
    "# ANOVA (comparaison entre plusieurs groupes)\n",
    "data['groupe'] = np.random.choice(['A', 'B', 'C'], size=len(data))\n",
    "anova_result = stats.f_oneway(data[data['groupe'] == 'A']['poids'],\n",
    "                              data[data['groupe'] == 'B']['poids'],\n",
    "                              data[data['groupe'] == 'C']['poids'])\n",
    "print(f\"ANOVA pour poids : F-stat={anova_result.statistic}, p-value={anova_result.pvalue}\")\n",
    "\n",
    "\n",
    "if anova_result.pvalue < 0.05:\n",
    "  print(\"Il y'a une difference significative entre au moins 2 moyennes des 3 groupes.\")\n",
    "else:\n",
    "  print(\"Il n'y pas a une  difference significative entre les moyennes des groupes.\")\n"
   ]
  },
  {
   "cell_type": "markdown",
   "metadata": {
    "id": "mpdimc3OL-u7"
   },
   "source": [
    "# Partie 2 : Réduction de dimensionnalité"
   ]
  },
  {
   "cell_type": "markdown",
   "metadata": {
    "id": "-_Mhko8fL_fn"
   },
   "source": [
    "## Exercice 4 : Analyse en Composantes Principales (ACP) (3 points)"
   ]
  },
  {
   "cell_type": "markdown",
   "metadata": {
    "id": "GGIVKCZ6MBJc"
   },
   "source": [
    "### 7. (1,5 pts) Implémentez une ACP sans scikit-learn (avec numpy). Calculez la matrice de covariance, les valeurs propres et les vecteurs propres."
   ]
  },
  {
   "cell_type": "code",
   "execution_count": 38,
   "metadata": {
    "colab": {
     "base_uri": "https://localhost:8080/"
    },
    "executionInfo": {
     "elapsed": 49,
     "status": "ok",
     "timestamp": 1743176124807,
     "user": {
      "displayName": "Akli YALAOUI",
      "userId": "11221765423982918284"
     },
     "user_tz": -60
    },
    "id": "xNXvaywhMGhy",
    "outputId": "9c67272c-7470-460a-981f-b880aeaf3674"
   },
   "outputs": [
    {
     "name": "stdout",
     "output_type": "stream",
     "text": [
      "Matrice de covariance :\n",
      " [[ 2.71976396e-01 -9.09716216e-03 -4.50171156e-02]\n",
      " [-9.09716216e-03  9.27074011e-02 -2.90455401e-04]\n",
      " [-4.50171156e-02 -2.90455401e-04  4.62034818e+00]]\n",
      "\n",
      "Valeurs propres :\n",
      " [4.62081418 0.27197231 0.09224548]\n",
      "\n",
      "Vecteurs propres :\n",
      " [[ 1.03508826e-02 -9.98660660e-01 -5.06926470e-02]\n",
      " [ 4.33461913e-05  5.06958110e-02 -9.98714140e-01]\n",
      " [-9.99946427e-01 -1.03353755e-02 -5.68034526e-04]]\n"
     ]
    }
   ],
   "source": [
    "data = data[['poids', 'nourriture', 'température']]\n",
    "\n",
    "# Centrer les données\n",
    "data_centered = data - data.mean()\n",
    "\n",
    "# Calculer la matrice de covariance\n",
    "covariance_matrix = np.cov(data_centered, rowvar=False)\n",
    "\n",
    "# Calculer les valeurs propres et les vecteurs propres\n",
    "eigenvalues, eigenvectors = np.linalg.eig(covariance_matrix)\n",
    "\n",
    "# Afficher les résultats\n",
    "print(\"Matrice de covariance :\\n\", covariance_matrix)\n",
    "print(\"\\nValeurs propres :\\n\", eigenvalues)\n",
    "print(\"\\nVecteurs propres :\\n\", eigenvectors)\n"
   ]
  },
  {
   "cell_type": "markdown",
   "metadata": {
    "id": "Mfio3E4kOe-h"
   },
   "source": [
    "### 8. (1,5 pts) Projetez les données sur les deux premières composantes principales et visualisez le résultat. Combien de composantes gardez-vous ? Justifiez."
   ]
  },
  {
   "cell_type": "code",
   "execution_count": 39,
   "metadata": {
    "executionInfo": {
     "elapsed": 4,
     "status": "ok",
     "timestamp": 1743176128501,
     "user": {
      "displayName": "Akli YALAOUI",
      "userId": "11221765423982918284"
     },
     "user_tz": -60
    },
    "id": "x6kYDPyvOzoX"
   },
   "outputs": [],
   "source": [
    "# Trier les valeurs propres par ordre décroissant\n",
    "sorted_indices = np.argsort(eigenvalues)[::-1]\n",
    "eigenvalues = eigenvalues[sorted_indices]\n",
    "eigenvectors = eigenvectors[:, sorted_indices]"
   ]
  },
  {
   "cell_type": "code",
   "execution_count": 40,
   "metadata": {
    "colab": {
     "base_uri": "https://localhost:8080/"
    },
    "executionInfo": {
     "elapsed": 23,
     "status": "ok",
     "timestamp": 1743176129812,
     "user": {
      "displayName": "Akli YALAOUI",
      "userId": "11221765423982918284"
     },
     "user_tz": -60
    },
    "id": "WSYS_iWiO4v6",
    "outputId": "9922a10c-805b-4838-9875-9c1fde0c46d6"
   },
   "outputs": [
    {
     "data": {
      "text/plain": [
       "array([0.92693772, 0.05455779, 0.01850449])"
      ]
     },
     "execution_count": 40,
     "metadata": {},
     "output_type": "execute_result"
    }
   ],
   "source": [
    "# Calculer la variance expliquée par chaque composante principale\n",
    "explained_variance_ratio = eigenvalues / np.sum(eigenvalues)\n",
    "explained_variance_ratio"
   ]
  },
  {
   "cell_type": "code",
   "execution_count": 41,
   "metadata": {
    "executionInfo": {
     "elapsed": 14,
     "status": "ok",
     "timestamp": 1743176131150,
     "user": {
      "displayName": "Akli YALAOUI",
      "userId": "11221765423982918284"
     },
     "user_tz": -60
    },
    "id": "4Y8QJz_OO77l"
   },
   "outputs": [],
   "source": [
    "# Projeter les données sur les deux premières composantes principales\n",
    "projected_data = (data_centered @ eigenvectors[:, :2]).to_numpy()"
   ]
  },
  {
   "cell_type": "code",
   "execution_count": 42,
   "metadata": {
    "colab": {
     "base_uri": "https://localhost:8080/",
     "height": 565
    },
    "executionInfo": {
     "elapsed": 208,
     "status": "ok",
     "timestamp": 1743176133001,
     "user": {
      "displayName": "Akli YALAOUI",
      "userId": "11221765423982918284"
     },
     "user_tz": -60
    },
    "id": "xaGE5nFFPDqw",
    "outputId": "e5323d8c-7fc2-47ad-ef20-071b9ee06f9c"
   },
   "outputs": [
    {
     "data": {
      "image/png": "[encoded data removed]",
      "text/plain": [
       "<Figure size 800x600 with 1 Axes>"
      ]
     },
     "metadata": {},
     "output_type": "display_data"
    }
   ],
   "source": [
    "# Visualiser le résultat\n",
    "plt.figure(figsize=(8, 6))\n",
    "plt.scatter(projected_data[:, 0], projected_data[:, 1])\n",
    "plt.xlabel(\"Composante principale 1\")\n",
    "plt.ylabel(\"Composante principale 2\")\n",
    "plt.title(\"Projection des données sur les deux premières composantes principales\")\n",
    "plt.show()"
   ]
  },
  {
   "cell_type": "code",
   "execution_count": 43,
   "metadata": {
    "colab": {
     "base_uri": "https://localhost:8080/"
    },
    "executionInfo": {
     "elapsed": 32,
     "status": "ok",
     "timestamp": 1743176141543,
     "user": {
      "displayName": "Akli YALAOUI",
      "userId": "11221765423982918284"
     },
     "user_tz": -60
    },
    "id": "X9dBCLRiPZA_",
    "outputId": "8d6c4f0c-350f-4888-b49c-aaaa6fa7af27"
   },
   "outputs": [
    {
     "name": "stdout",
     "output_type": "stream",
     "text": [
      "Variance expliquée cumulée : [0.92693772 0.98149551 1.        ]\n"
     ]
    }
   ],
   "source": [
    "# Déterminer le nombre de composantes à garder\n",
    "cumulative_variance_ratio = np.cumsum(explained_variance_ratio)\n",
    "print(\"Variance expliquée cumulée :\", cumulative_variance_ratio)"
   ]
  },
  {
   "cell_type": "markdown",
   "metadata": {
    "id": "tF59_p--PmCZ"
   },
   "source": [
    "- On garde 2 composantes\n",
    "- On choisit le nombre minimal de composantes qui expliquent une part suffisante de la variance totale des données. Dans ce cas, on cherche à conserver 95% de la variance.  \n",
    "-Le choix de 95% est arbitraire et peut être ajusté en fonction du contexte de l'étude.\n"
   ]
  },
  {
   "cell_type": "markdown",
   "metadata": {
    "id": "flWeW-TDPs9h"
   },
   "source": [
    "## Exercice 5 : ACP à Noyau (3 points)"
   ]
  },
  {
   "cell_type": "markdown",
   "metadata": {
    "id": "_AbKFe-gPuNw"
   },
   "source": [
    "### 9. (1,5 pts) Appliquez KernelPCA (avec scikit-learn) sur les données et testez différents noyaux (linéaire, RBF, polynomial)."
   ]
  },
  {
   "cell_type": "code",
   "execution_count": 44,
   "metadata": {
    "colab": {
     "base_uri": "https://localhost:8080/",
     "height": 1000
    },
    "executionInfo": {
     "elapsed": 623,
     "status": "ok",
     "timestamp": 1743176648467,
     "user": {
      "displayName": "Akli YALAOUI",
      "userId": "11221765423982918284"
     },
     "user_tz": -60
    },
    "id": "EEJmueKxPxIi",
    "outputId": "133026e0-cdad-4a3e-dd99-f7c1a95da6e7"
   },
   "outputs": [
    {
     "name": "stdout",
     "output_type": "stream",
     "text": [
      "Variance expliquée par KernelPCA avec noyau linear: [1.0697554  1.00041718]\n"
     ]
    },
    {
     "data": {
      "image/png": "[encoded data removed]",
      "text/plain": [
       "<Figure size 800x600 with 1 Axes>"
      ]
     },
     "metadata": {},
     "output_type": "display_data"
    },
    {
     "name": "stdout",
     "output_type": "stream",
     "text": [
      "Variance expliquée par KernelPCA avec noyau rbf: [0.11743725 0.09894966]\n"
     ]
    },
    {
     "data": {
      "image/png": "[encoded data removed]",
      "text/plain": [
       "<Figure size 800x600 with 1 Axes>"
      ]
     },
     "metadata": {},
     "output_type": "display_data"
    },
    {
     "name": "stdout",
     "output_type": "stream",
     "text": [
      "Variance expliquée par KernelPCA avec noyau poly: [2.12846514 1.73632195]\n"
     ]
    },
    {
     "data": {
      "image/png": "[encoded data removed]",
      "text/plain": [
       "<Figure size 800x600 with 1 Axes>"
      ]
     },
     "metadata": {},
     "output_type": "display_data"
    }
   ],
   "source": [
    "# Standardiser les données\n",
    "scaler = StandardScaler()\n",
    "data_scaled = scaler.fit_transform(data)\n",
    "\n",
    "# Définir les noyaux à tester\n",
    "kernels = ['linear', 'rbf', 'poly']\n",
    "\n",
    "# Appliquer KernelPCA pour chaque noyau\n",
    "for kernel in kernels:\n",
    "    kpca = KernelPCA(n_components=2, kernel=kernel)\n",
    "    data_kpca = kpca.fit_transform(data_scaled)\n",
    "    explained_variance_kpca = np.var(data_kpca, axis=0)\n",
    "    print(f\"Variance expliquée par KernelPCA avec noyau {kernel}: {explained_variance_kpca}\")\n",
    "    # Afficher les résultats\n",
    "    plt.figure(figsize=(8, 6))\n",
    "    plt.scatter(data_kpca[:, 0], data_kpca[:, 1])\n",
    "    plt.xlabel(\"Composante principale 1\")\n",
    "    plt.ylabel(\"Composante principale 2\")\n",
    "    plt.title(f\"KernelPCA avec noyau {kernel}\")\n",
    "    plt.show()\n"
   ]
  },
  {
   "cell_type": "markdown",
   "metadata": {
    "id": "RqrPjcP9Qe6A"
   },
   "source": [
    "### 10. (1,5 pts) Comparez les résultats avec l'ACP classique. Dans quels cas l’ACP à noyau donne-t elle de meilleurs résultats ?"
   ]
  },
  {
   "cell_type": "markdown",
   "metadata": {
    "id": "2CdMwCTfRLe_"
   },
   "source": [
    "- L'ACP à noyau permet de visualiser des structures non linéaires dans les données, ce qui n'est pas possible avec une ACP classique.\n",
    "- L'ACP à noyau est particulièrement utile lorsque les données ne sont pas linéairement séparables.\n",
    "- Si les données présentent une structure non linéaire (par exemple, des groupes de points en forme de cercle ou de spirale), l'ACP à noyau avec un noyau approprié (par exemple, RBF ou polynomial) peut révéler ces structures et donner une meilleure représentation des données en dimensions réduites.\n",
    "- Le choix du noyau dépend de la nature des données et de la structure que l'on souhaite mettre en évidence.\n",
    "  - Noyau linéaire : équivalent à une ACP classique.\n",
    "  - Noyau RBF :  permet de capturer des structures non-linéaires plus complexes, mais le paramètre gamma doit être ajusté avec soin.\n",
    "  - Noyau polynomial : adapté aux structures polynomiales dans les données.\n"
   ]
  },
  {
   "cell_type": "markdown",
   "metadata": {
    "id": "BTp9qqKdQo9A"
   },
   "source": [
    "# Partie 3 : Méthodes d'ensemble"
   ]
  },
  {
   "cell_type": "markdown",
   "metadata": {
    "id": "y1msQSIXQplO"
   },
   "source": [
    "## Exercice 6 : Bagging (3 points)"
   ]
  },
  {
   "cell_type": "markdown",
   "metadata": {
    "id": "lVPOCGKGQrso"
   },
   "source": [
    "### 11. (1,5 pts) Implémentez une forêt aléatoire (RandomForestClassifier) pour prédire la survie des poulets. Analysez les performances (accuracy, F1-score)."
   ]
  },
  {
   "cell_type": "code",
   "execution_count": 45,
   "metadata": {
    "colab": {
     "base_uri": "https://localhost:8080/",
     "height": 206
    },
    "executionInfo": {
     "elapsed": 72,
     "status": "ok",
     "timestamp": 1743176789490,
     "user": {
      "displayName": "Akli YALAOUI",
      "userId": "11221765423982918284"
     },
     "user_tz": -60
    },
    "id": "GiYXU3JCRgeX",
    "outputId": "842a2777-0764-475c-b991-4d2e0a82fd0c"
   },
   "outputs": [
    {
     "data": {
      "text/html": [
       "<div>\n",
       "<style scoped>\n",
       "    .dataframe tbody tr th:only-of-type {\n",
       "        vertical-align: middle;\n",
       "    }\n",
       "\n",
       "    .dataframe tbody tr th {\n",
       "        vertical-align: top;\n",
       "    }\n",
       "\n",
       "    .dataframe thead th {\n",
       "        text-align: right;\n",
       "    }\n",
       "</style>\n",
       "<table border=\"1\" class=\"dataframe\">\n",
       "  <thead>\n",
       "    <tr style=\"text-align: right;\">\n",
       "      <th></th>\n",
       "      <th>Poids_poulet_g</th>\n",
       "      <th>Nourriture_consommee_g_jour</th>\n",
       "      <th>Temperature_enclos_C</th>\n",
       "      <th>Humidite_%</th>\n",
       "      <th>Age_poulet_jours</th>\n",
       "      <th>Gain_poids_jour_g</th>\n",
       "      <th>Taux_survie_%</th>\n",
       "      <th>Cout_elevage_FCFA</th>\n",
       "    </tr>\n",
       "  </thead>\n",
       "  <tbody>\n",
       "    <tr>\n",
       "      <th>0</th>\n",
       "      <td>3974</td>\n",
       "      <td>52</td>\n",
       "      <td>27.6</td>\n",
       "      <td>79.3</td>\n",
       "      <td>24</td>\n",
       "      <td>12.0</td>\n",
       "      <td>81.1</td>\n",
       "      <td>2682</td>\n",
       "    </tr>\n",
       "    <tr>\n",
       "      <th>1</th>\n",
       "      <td>1660</td>\n",
       "      <td>152</td>\n",
       "      <td>31.7</td>\n",
       "      <td>62.5</td>\n",
       "      <td>42</td>\n",
       "      <td>12.2</td>\n",
       "      <td>89.1</td>\n",
       "      <td>6626</td>\n",
       "    </tr>\n",
       "    <tr>\n",
       "      <th>2</th>\n",
       "      <td>2094</td>\n",
       "      <td>186</td>\n",
       "      <td>30.1</td>\n",
       "      <td>64.8</td>\n",
       "      <td>29</td>\n",
       "      <td>18.8</td>\n",
       "      <td>90.4</td>\n",
       "      <td>8424</td>\n",
       "    </tr>\n",
       "    <tr>\n",
       "      <th>3</th>\n",
       "      <td>1930</td>\n",
       "      <td>111</td>\n",
       "      <td>29.2</td>\n",
       "      <td>87.0</td>\n",
       "      <td>63</td>\n",
       "      <td>13.8</td>\n",
       "      <td>92.9</td>\n",
       "      <td>1933</td>\n",
       "    </tr>\n",
       "    <tr>\n",
       "      <th>4</th>\n",
       "      <td>1895</td>\n",
       "      <td>100</td>\n",
       "      <td>26.1</td>\n",
       "      <td>78.2</td>\n",
       "      <td>21</td>\n",
       "      <td>5.5</td>\n",
       "      <td>93.0</td>\n",
       "      <td>4598</td>\n",
       "    </tr>\n",
       "  </tbody>\n",
       "</table>\n",
       "</div>"
      ],
      "text/plain": [
       "   Poids_poulet_g  Nourriture_consommee_g_jour  Temperature_enclos_C  \\\n",
       "0            3974                           52                  27.6   \n",
       "1            1660                          152                  31.7   \n",
       "2            2094                          186                  30.1   \n",
       "3            1930                          111                  29.2   \n",
       "4            1895                          100                  26.1   \n",
       "\n",
       "   Humidite_%  Age_poulet_jours  Gain_poids_jour_g  Taux_survie_%  \\\n",
       "0        79.3                24               12.0           81.1   \n",
       "1        62.5                42               12.2           89.1   \n",
       "2        64.8                29               18.8           90.4   \n",
       "3        87.0                63               13.8           92.9   \n",
       "4        78.2                21                5.5           93.0   \n",
       "\n",
       "   Cout_elevage_FCFA  \n",
       "0               2682  \n",
       "1               6626  \n",
       "2               8424  \n",
       "3               1933  \n",
       "4               4598  "
      ]
     },
     "execution_count": 45,
     "metadata": {},
     "output_type": "execute_result"
    }
   ],
   "source": [
    "df = pd.read_csv('donnees_elevage_poulet.csv')\n",
    "df.head()"
   ]
  },
  {
   "cell_type": "code",
   "execution_count": 46,
   "metadata": {
    "colab": {
     "base_uri": "https://localhost:8080/"
    },
    "executionInfo": {
     "elapsed": 31,
     "status": "ok",
     "timestamp": 1743176791828,
     "user": {
      "displayName": "Akli YALAOUI",
      "userId": "11221765423982918284"
     },
     "user_tz": -60
    },
    "id": "dp1Rqvm6RurX",
    "outputId": "df21e0b9-b57d-4e06-cb55-2939247e184a"
   },
   "outputs": [
    {
     "name": "stdout",
     "output_type": "stream",
     "text": [
      "<class 'pandas.core.frame.DataFrame'>\n",
      "RangeIndex: 200 entries, 0 to 199\n",
      "Data columns (total 8 columns):\n",
      " #   Column                       Non-Null Count  Dtype  \n",
      "---  ------                       --------------  -----  \n",
      " 0   Poids_poulet_g               200 non-null    int64  \n",
      " 1   Nourriture_consommee_g_jour  200 non-null    int64  \n",
      " 2   Temperature_enclos_C         200 non-null    float64\n",
      " 3   Humidite_%                   200 non-null    float64\n",
      " 4   Age_poulet_jours             200 non-null    int64  \n",
      " 5   Gain_poids_jour_g            200 non-null    float64\n",
      " 6   Taux_survie_%                200 non-null    float64\n",
      " 7   Cout_elevage_FCFA            200 non-null    int64  \n",
      "dtypes: float64(4), int64(4)\n",
      "memory usage: 12.6 KB\n"
     ]
    }
   ],
   "source": [
    "df.info()"
   ]
  },
  {
   "cell_type": "code",
   "execution_count": 47,
   "metadata": {
    "colab": {
     "base_uri": "https://localhost:8080/",
     "height": 300
    },
    "executionInfo": {
     "elapsed": 17,
     "status": "ok",
     "timestamp": 1743176793307,
     "user": {
      "displayName": "Akli YALAOUI",
      "userId": "11221765423982918284"
     },
     "user_tz": -60
    },
    "id": "-ItFUnVeRxiN",
    "outputId": "21331542-00c5-4e6d-c2b2-5b59f7d5afa9"
   },
   "outputs": [
    {
     "data": {
      "text/html": [
       "<div>\n",
       "<style scoped>\n",
       "    .dataframe tbody tr th:only-of-type {\n",
       "        vertical-align: middle;\n",
       "    }\n",
       "\n",
       "    .dataframe tbody tr th {\n",
       "        vertical-align: top;\n",
       "    }\n",
       "\n",
       "    .dataframe thead th {\n",
       "        text-align: right;\n",
       "    }\n",
       "</style>\n",
       "<table border=\"1\" class=\"dataframe\">\n",
       "  <thead>\n",
       "    <tr style=\"text-align: right;\">\n",
       "      <th></th>\n",
       "      <th>Poids_poulet_g</th>\n",
       "      <th>Nourriture_consommee_g_jour</th>\n",
       "      <th>Temperature_enclos_C</th>\n",
       "      <th>Humidite_%</th>\n",
       "      <th>Age_poulet_jours</th>\n",
       "      <th>Gain_poids_jour_g</th>\n",
       "      <th>Taux_survie_%</th>\n",
       "      <th>Cout_elevage_FCFA</th>\n",
       "    </tr>\n",
       "  </thead>\n",
       "  <tbody>\n",
       "    <tr>\n",
       "      <th>count</th>\n",
       "      <td>200.000000</td>\n",
       "      <td>200.000000</td>\n",
       "      <td>200.000000</td>\n",
       "      <td>200.000000</td>\n",
       "      <td>200.000000</td>\n",
       "      <td>200.000000</td>\n",
       "      <td>200.00000</td>\n",
       "      <td>200.000000</td>\n",
       "    </tr>\n",
       "    <tr>\n",
       "      <th>mean</th>\n",
       "      <td>2509.580000</td>\n",
       "      <td>129.745000</td>\n",
       "      <td>28.389000</td>\n",
       "      <td>75.132000</td>\n",
       "      <td>66.260000</td>\n",
       "      <td>12.960500</td>\n",
       "      <td>90.05200</td>\n",
       "      <td>5157.960000</td>\n",
       "    </tr>\n",
       "    <tr>\n",
       "      <th>std</th>\n",
       "      <td>898.436875</td>\n",
       "      <td>44.006166</td>\n",
       "      <td>2.065724</td>\n",
       "      <td>8.790086</td>\n",
       "      <td>28.185716</td>\n",
       "      <td>4.197378</td>\n",
       "      <td>6.24268</td>\n",
       "      <td>2728.600738</td>\n",
       "    </tr>\n",
       "    <tr>\n",
       "      <th>min</th>\n",
       "      <td>821.000000</td>\n",
       "      <td>51.000000</td>\n",
       "      <td>25.000000</td>\n",
       "      <td>60.200000</td>\n",
       "      <td>20.000000</td>\n",
       "      <td>5.000000</td>\n",
       "      <td>80.00000</td>\n",
       "      <td>1001.000000</td>\n",
       "    </tr>\n",
       "    <tr>\n",
       "      <th>25%</th>\n",
       "      <td>1810.750000</td>\n",
       "      <td>95.750000</td>\n",
       "      <td>26.600000</td>\n",
       "      <td>67.875000</td>\n",
       "      <td>44.000000</td>\n",
       "      <td>9.700000</td>\n",
       "      <td>84.60000</td>\n",
       "      <td>2757.750000</td>\n",
       "    </tr>\n",
       "    <tr>\n",
       "      <th>50%</th>\n",
       "      <td>2481.500000</td>\n",
       "      <td>135.500000</td>\n",
       "      <td>28.500000</td>\n",
       "      <td>76.250000</td>\n",
       "      <td>63.500000</td>\n",
       "      <td>13.000000</td>\n",
       "      <td>90.35000</td>\n",
       "      <td>4670.500000</td>\n",
       "    </tr>\n",
       "    <tr>\n",
       "      <th>75%</th>\n",
       "      <td>3356.500000</td>\n",
       "      <td>165.250000</td>\n",
       "      <td>30.300000</td>\n",
       "      <td>82.250000</td>\n",
       "      <td>89.500000</td>\n",
       "      <td>16.600000</td>\n",
       "      <td>96.17500</td>\n",
       "      <td>7383.500000</td>\n",
       "    </tr>\n",
       "    <tr>\n",
       "      <th>max</th>\n",
       "      <td>3974.000000</td>\n",
       "      <td>199.000000</td>\n",
       "      <td>31.900000</td>\n",
       "      <td>89.700000</td>\n",
       "      <td>119.000000</td>\n",
       "      <td>20.000000</td>\n",
       "      <td>99.90000</td>\n",
       "      <td>9984.000000</td>\n",
       "    </tr>\n",
       "  </tbody>\n",
       "</table>\n",
       "</div>"
      ],
      "text/plain": [
       "       Poids_poulet_g  Nourriture_consommee_g_jour  Temperature_enclos_C  \\\n",
       "count      200.000000                   200.000000            200.000000   \n",
       "mean      2509.580000                   129.745000             28.389000   \n",
       "std        898.436875                    44.006166              2.065724   \n",
       "min        821.000000                    51.000000             25.000000   \n",
       "25%       1810.750000                    95.750000             26.600000   \n",
       "50%       2481.500000                   135.500000             28.500000   \n",
       "75%       3356.500000                   165.250000             30.300000   \n",
       "max       3974.000000                   199.000000             31.900000   \n",
       "\n",
       "       Humidite_%  Age_poulet_jours  Gain_poids_jour_g  Taux_survie_%  \\\n",
       "count  200.000000        200.000000         200.000000      200.00000   \n",
       "mean    75.132000         66.260000          12.960500       90.05200   \n",
       "std      8.790086         28.185716           4.197378        6.24268   \n",
       "min     60.200000         20.000000           5.000000       80.00000   \n",
       "25%     67.875000         44.000000           9.700000       84.60000   \n",
       "50%     76.250000         63.500000          13.000000       90.35000   \n",
       "75%     82.250000         89.500000          16.600000       96.17500   \n",
       "max     89.700000        119.000000          20.000000       99.90000   \n",
       "\n",
       "       Cout_elevage_FCFA  \n",
       "count         200.000000  \n",
       "mean         5157.960000  \n",
       "std          2728.600738  \n",
       "min          1001.000000  \n",
       "25%          2757.750000  \n",
       "50%          4670.500000  \n",
       "75%          7383.500000  \n",
       "max          9984.000000  "
      ]
     },
     "execution_count": 47,
     "metadata": {},
     "output_type": "execute_result"
    }
   ],
   "source": [
    "df.describe()"
   ]
  },
  {
   "cell_type": "code",
   "execution_count": 48,
   "metadata": {
    "colab": {
     "base_uri": "https://localhost:8080/",
     "height": 196
    },
    "executionInfo": {
     "elapsed": 24,
     "status": "ok",
     "timestamp": 1743176796261,
     "user": {
      "displayName": "Akli YALAOUI",
      "userId": "11221765423982918284"
     },
     "user_tz": -60
    },
    "id": "iTYriDG7T52y",
    "outputId": "f0bb4063-c5e5-4163-a338-3bbbdf076b9d"
   },
   "outputs": [
    {
     "name": "stdout",
     "output_type": "stream",
     "text": [
      "Nombre de class :\n"
     ]
    },
    {
     "data": {
      "text/plain": [
       "1    147\n",
       "0     53\n",
       "Name: Taux_survie_%, dtype: int64"
      ]
     },
     "execution_count": 48,
     "metadata": {},
     "output_type": "execute_result"
    }
   ],
   "source": [
    "X = df[['Poids_poulet_g', 'Nourriture_consommee_g_jour', 'Temperature_enclos_C', 'Humidite_%', 'Age_poulet_jours', 'Gain_poids_jour_g', 'Cout_elevage_FCFA']]\n",
    "y = (df['Taux_survie_%'] > 85).astype(int)  # Création d'une variable binaire pour la survie\n",
    "\n",
    "print(\"Nombre de class :\")\n",
    "y.value_counts()"
   ]
  },
  {
   "cell_type": "code",
   "execution_count": 49,
   "metadata": {
    "colab": {
     "base_uri": "https://localhost:8080/"
    },
    "executionInfo": {
     "elapsed": 347,
     "status": "ok",
     "timestamp": 1743176861305,
     "user": {
      "displayName": "Akli YALAOUI",
      "userId": "11221765423982918284"
     },
     "user_tz": -60
    },
    "id": "Vm5jgOAJQumL",
    "outputId": "63c8902b-2675-4700-b9f5-67833a481396"
   },
   "outputs": [
    {
     "name": "stdout",
     "output_type": "stream",
     "text": [
      "Accuracy: 0.725\n",
      "F1-score: 0.8405797101449275\n"
     ]
    }
   ],
   "source": [
    "# Séparer les données\n",
    "X_train, X_test, y_train, y_test = train_test_split(X, y, test_size=0.2, random_state=42)\n",
    "\n",
    "# Initialiser et entrainer the RandomForestClassifier\n",
    "rf_classifier = RandomForestClassifier(n_estimators=100, random_state=42)\n",
    "rf_classifier.fit(X_train, y_train)\n",
    "\n",
    "# Make predictions\n",
    "y_pred = rf_classifier.predict(X_test)\n",
    "\n",
    "# Evaluate the model\n",
    "accuracy = accuracy_score(y_test, y_pred)\n",
    "f1 = f1_score(y_test, y_pred)\n",
    "\n",
    "print(f\"Accuracy: {accuracy}\")\n",
    "print(f\"F1-score: {f1}\")\n"
   ]
  },
  {
   "cell_type": "markdown",
   "metadata": {
    "id": "ZpfH0DfOQvHH"
   },
   "source": [
    "### 12. (1,5 pts) Identifiez les variables les plus importantes. Quels attributs influencent le plus la survie des poulets ? Pourquoi ?"
   ]
  },
  {
   "cell_type": "code",
   "execution_count": 50,
   "metadata": {
    "colab": {
     "base_uri": "https://localhost:8080/",
     "height": 651
    },
    "executionInfo": {
     "elapsed": 327,
     "status": "ok",
     "timestamp": 1743176863981,
     "user": {
      "displayName": "Akli YALAOUI",
      "userId": "11221765423982918284"
     },
     "user_tz": -60
    },
    "id": "8ZPZ0k6pQxyK",
    "outputId": "be7d75b7-00a7-4234-a036-3cb12de1459c"
   },
   "outputs": [
    {
     "data": {
      "image/png": "[encoded data removed]",
      "text/plain": [
       "<Figure size 640x480 with 1 Axes>"
      ]
     },
     "metadata": {},
     "output_type": "display_data"
    }
   ],
   "source": [
    "feature_importances = pd.Series(rf_classifier.feature_importances_, index=X.columns)\n",
    "feature_importances.sort_values(ascending=False).plot(kind='bar', title=\"Importance des variables\")\n",
    "plt.show()"
   ]
  },
  {
   "cell_type": "markdown",
   "metadata": {
    "id": "zuoe9-lKQzDo"
   },
   "source": [
    "## Exercice 7 : Boosting (3 points)"
   ]
  },
  {
   "cell_type": "markdown",
   "metadata": {
    "id": "lycYUFkbQz8H"
   },
   "source": [
    "### 13. (1,5 pts) Comparez AdaBoost et Gradient Boosting sur la prédiction du gain de poids. Analysez leurs performances."
   ]
  },
  {
   "cell_type": "code",
   "execution_count": 51,
   "metadata": {
    "colab": {
     "base_uri": "https://localhost:8080/"
    },
    "executionInfo": {
     "elapsed": 288,
     "status": "ok",
     "timestamp": 1743176874619,
     "user": {
      "displayName": "Akli YALAOUI",
      "userId": "11221765423982918284"
     },
     "user_tz": -60
    },
    "id": "rLMW1-5PQ3tD",
    "outputId": "0137d200-97d3-4fe7-942c-5742b7439bf8"
   },
   "outputs": [
    {
     "name": "stdout",
     "output_type": "stream",
     "text": [
      "MSE AdaBoost: 30.8263\n",
      "MSE Gradient Boosting: 36.3082\n"
     ]
    }
   ],
   "source": [
    "X = df[['Poids_poulet_g', 'Nourriture_consommee_g_jour', 'Temperature_enclos_C', 'Humidite_%', 'Age_poulet_jours']]\n",
    "y = df['Gain_poids_jour_g']\n",
    "\n",
    "X_train, X_test, y_train, y_test = train_test_split(X, y, test_size=0.2, random_state=42)\n",
    "\n",
    "adaboost = AdaBoostRegressor(n_estimators=100, random_state=42)\n",
    "gb = GradientBoostingRegressor(n_estimators=100, random_state=42)\n",
    "\n",
    "adaboost.fit(X_train, y_train)\n",
    "gb.fit(X_train, y_train)\n",
    "\n",
    "y_pred_adaboost = adaboost.predict(X_test)\n",
    "y_pred_gb = gb.predict(X_test)\n",
    "\n",
    "print(f\"MSE AdaBoost: {mean_squared_error(y_test, y_pred_adaboost):.4f}\")\n",
    "print(f\"MSE Gradient Boosting: {mean_squared_error(y_test, y_pred_gb):.4f}\")"
   ]
  },
  {
   "cell_type": "markdown",
   "metadata": {
    "id": "LkkbuukVcHD7"
   },
   "source": [
    "- On remarque qu'AdaBoost est meilleur en matière de mse"
   ]
  },
  {
   "cell_type": "markdown",
   "metadata": {
    "id": "idRu9Im2Q5Ug"
   },
   "source": [
    "### 14. (1,5 pts) Les deux algorithmes réagissent-ils différemment aux outliers ? Expliquez pourquoi."
   ]
  },
  {
   "cell_type": "code",
   "execution_count": 52,
   "metadata": {
    "colab": {
     "base_uri": "https://localhost:8080/"
    },
    "executionInfo": {
     "elapsed": 718,
     "status": "ok",
     "timestamp": 1743176916848,
     "user": {
      "displayName": "Akli YALAOUI",
      "userId": "11221765423982918284"
     },
     "user_tz": -60
    },
    "id": "7Z1JgIx0Vcce",
    "outputId": "4a9fcd95-83c1-48dc-eb48-36e18d917fed"
   },
   "outputs": [
    {
     "name": "stdout",
     "output_type": "stream",
     "text": [
      "MSE AdaBoost avec outliers: 28.4403\n",
      "MSE Gradient Boosting avec outliers: 36.3082\n"
     ]
    }
   ],
   "source": [
    "outlier_data = df.copy()\n",
    "outlier_data.loc[0, 'Poids_poulet_g'] = 10000  # Ajout d'un outlier\n",
    "X_outlier = outlier_data[['Poids_poulet_g', 'Nourriture_consommee_g_jour', 'Temperature_enclos_C', 'Humidite_%', 'Age_poulet_jours']]\n",
    "y_outlier = outlier_data['Gain_poids_jour_g']\n",
    "\n",
    "X_train_out, X_test_out, y_train_out, y_test_out = train_test_split(X_outlier, y_outlier, test_size=0.2, random_state=42)\n",
    "\n",
    "adaboost.fit(X_train_out, y_train_out)\n",
    "gb.fit(X_train_out, y_train_out)\n",
    "\n",
    "y_pred_adaboost_out = adaboost.predict(X_test_out)\n",
    "y_pred_gb_out = gb.predict(X_test_out)\n",
    "\n",
    "print(f\"MSE AdaBoost avec outliers: {mean_squared_error(y_test_out, y_pred_adaboost_out):.4f}\")\n",
    "print(f\"MSE Gradient Boosting avec outliers: {mean_squared_error(y_test_out, y_pred_gb_out):.4f}\")\n"
   ]
  },
  {
   "cell_type": "markdown",
   "metadata": {
    "id": "qBBrkmTiVrZ8"
   },
   "source": [
    "- AdaBoost est plus sensible aux outliers.  Il attribue des poids plus importants aux exemples mal classés, et donc les outliers, qui sont souvent mal classés, peuvent avoir une influence disproportionnée sur l'entraînement du modèle.  Un outlier qui est difficile à classer correctement recevra un poids élevé, ce qui amènera l'algorithme à construire des arbres de décision qui lui sont spécifiquement adaptés. Cela peut mener à un modèle suradapté aux outliers et moins performant sur les nouvelles données.\n",
    "\n",
    "-  Gradient Boosting est moins sensible aux outliers que AdaBoost. Il construit chaque nouvel arbre pour corriger les erreurs résiduelles du modèle précédent. Les outliers, ayant une grande erreur résiduelle, influenceront le nouvel arbre, mais leur influence est atténuée car le gradient est utilisé pour minimiser l'erreur globale et non l'erreur sur un seul exemple.  Le processus de boosting, étape par étape, est moins sensible à de fortes variations dans quelques points de données.  Chaque arbre ne se concentre pas sur la minimisation de l'erreur pour un point particulier mais plutôt sur la minimisation de l'erreur globale de l'ensemble du modèle.\n",
    "\n",
    "- En résumé, AdaBoost est plus susceptible de se faire piéger par les outliers, alors que Gradient Boosting les prend en compte tout en minimisant leur impact global sur le modèle.\n"
   ]
  }
 ],
 "metadata": {
  "colab": {
   "authorship_tag": "ABX9TyOxNxocaO0qUCCPhY63GpS5",
   "provenance": []
  },
  "kernelspec": {
   "display_name": "Python 3 (ipykernel)",
   "language": "python",
   "name": "python3"
  },
  "language_info": {
   "codemirror_mode": {
    "name": "ipython",
    "version": 3
   },
   "file_extension": ".py",
   "mimetype": "text/x-python",
   "name": "python",
   "nbconvert_exporter": "python",
   "pygments_lexer": "ipython3",
   "version": "3.8.10"
  }
 },
 "nbformat": 4,
 "nbformat_minor": 1
}
